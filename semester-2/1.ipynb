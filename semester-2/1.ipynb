{
 "cells": [
  {
   "cell_type": "code",
   "execution_count": 1,
   "metadata": {},
   "outputs": [
    {
     "name": "stdout",
     "output_type": "stream",
     "text": [
      "hello world\n"
     ]
    }
   ],
   "source": [
    "print(\"hello world\")"
   ]
  },
  {
   "cell_type": "code",
   "execution_count": 2,
   "metadata": {},
   "outputs": [],
   "source": [
    "x = 10\n",
    "y = \"USB\"\n",
    "z = 10.8"
   ]
  },
  {
   "cell_type": "code",
   "execution_count": 3,
   "metadata": {},
   "outputs": [
    {
     "name": "stdout",
     "output_type": "stream",
     "text": [
      "<class 'float'>\n"
     ]
    }
   ],
   "source": [
    "print(type(z))"
   ]
  },
  {
   "cell_type": "code",
   "execution_count": 4,
   "metadata": {},
   "outputs": [
    {
     "name": "stdout",
     "output_type": "stream",
     "text": [
      "<class 'str'>\n"
     ]
    }
   ],
   "source": [
    "# casting\n",
    "x = str(10)\n",
    "print(type(x))"
   ]
  },
  {
   "cell_type": "code",
   "execution_count": 16,
   "metadata": {},
   "outputs": [
    {
     "name": "stdout",
     "output_type": "stream",
     "text": [
      "<class 'int'>\n",
      "10\n",
      "<class 'str'>\n",
      "apple\n",
      "<class 'float'>\n",
      "10.8\n",
      "<class 'list'>\n",
      "['apple', 'banana', 'orange']\n",
      "<class 'tuple'>\n",
      "('apple', 'banana', 'orange')\n",
      "<class 'dict'>\n",
      "{'name': 'John', 'age': 36}\n",
      "<class 'set'>\n",
      "{1, 2, 3}\n"
     ]
    }
   ],
   "source": [
    "a = 10\n",
    "b = \"apple\"\n",
    "c = 10.8\n",
    "d = [\"apple\", \"banana\", \"orange\"]\n",
    "e = (\"apple\", \"banana\", \"orange\")\n",
    "f = {\"name\": \"John\", \"age\": 36}\n",
    "g = {1, 3, 2}\n",
    "\n",
    "print(type(a))\n",
    "print(a)\n",
    "print(type(b))\n",
    "print(b)\n",
    "print(type(c))\n",
    "print(c)\n",
    "print(type(d))\n",
    "print(d)\n",
    "print(type(e))\n",
    "print(e)\n",
    "print(type(f))\n",
    "print(f)\n",
    "print(type(g))\n",
    "print(g)"
   ]
  },
  {
   "cell_type": "code",
   "execution_count": 17,
   "metadata": {},
   "outputs": [
    {
     "name": "stdout",
     "output_type": "stream",
     "text": [
      "apple\n",
      "banana\n",
      "cherry\n"
     ]
    }
   ],
   "source": [
    "values = [\"apple\", \"banana\", \"cherry\"]\n",
    "for val in values:\n",
    "    print(val)"
   ]
  },
  {
   "cell_type": "code",
   "execution_count": null,
   "metadata": {},
   "outputs": [
    {
     "name": "stdout",
     "output_type": "stream",
     "text": [
      "['apple', 'banana', 'cherry', 'orange']\n",
      "['apple', 'mango', 'banana', 'cherry', 'orange']\n",
      "['apple', 'mango', 'cherry', 'orange']\n",
      "orange\n",
      "['apple', 'mango', 'cherry']\n",
      "[]\n",
      "['banana', 'cherry']\n"
     ]
    }
   ],
   "source": [
    "# lists methods\n",
    "values = [\"apple\", \"banana\", \"cherry\"]\n",
    "values.append(\"orange\")\n",
    "print(values)\n",
    "values.insert(1, \"mango\")\n",
    "print(values)\n",
    "values.remove(\"banana\")\n",
    "print(values)\n",
    "print(values.pop())\n",
    "print(values)\n",
    "values.clear()\n",
    "print(values)\n",
    "values = [\"apple\", \"banana\", \"cherry\"]\n",
    "del values[0]\n",
    "print(values)"
   ]
  },
  {
   "cell_type": "code",
   "execution_count": 12,
   "metadata": {},
   "outputs": [
    {
     "name": "stdout",
     "output_type": "stream",
     "text": [
      "[0, 1, 1, 2, 3]\n"
     ]
    }
   ],
   "source": [
    "def fibo_func(n):\n",
    "    fibo = [0, 1]\n",
    "    counter = 0\n",
    "    for i in range(n):\n",
    "        fibo.append(fibo[counter] + fibo[counter + 1])\n",
    "        counter += 1\n",
    "    return fibo\n",
    "\n",
    "n = int(input(\"Enter the length of list: \"))\n",
    "\n",
    "fibo = fibo_func(n)\n",
    "\n",
    "print(fibo)"
   ]
  }
 ],
 "metadata": {
  "kernelspec": {
   "display_name": "Python 3",
   "language": "python",
   "name": "python3"
  },
  "language_info": {
   "codemirror_mode": {
    "name": "ipython",
    "version": 3
   },
   "file_extension": ".py",
   "mimetype": "text/x-python",
   "name": "python",
   "nbconvert_exporter": "python",
   "pygments_lexer": "ipython3",
   "version": "3.11.5"
  }
 },
 "nbformat": 4,
 "nbformat_minor": 2
}
