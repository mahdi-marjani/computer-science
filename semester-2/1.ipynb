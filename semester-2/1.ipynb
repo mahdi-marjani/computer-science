{
 "cells": [
  {
   "cell_type": "code",
   "execution_count": null,
   "metadata": {},
   "outputs": [],
   "source": [
    "import random"
   ]
  },
  {
   "cell_type": "code",
   "execution_count": null,
   "metadata": {},
   "outputs": [],
   "source": [
    "print(\"hello world\")"
   ]
  },
  {
   "cell_type": "code",
   "execution_count": null,
   "metadata": {},
   "outputs": [],
   "source": [
    "x = 10\n",
    "y = \"USB\"\n",
    "z = 10.8"
   ]
  },
  {
   "cell_type": "code",
   "execution_count": null,
   "metadata": {},
   "outputs": [],
   "source": [
    "print(type(z))"
   ]
  },
  {
   "cell_type": "code",
   "execution_count": null,
   "metadata": {},
   "outputs": [],
   "source": [
    "# casting\n",
    "x = str(10)\n",
    "print(type(x))"
   ]
  },
  {
   "cell_type": "code",
   "execution_count": null,
   "metadata": {},
   "outputs": [],
   "source": [
    "a = 10\n",
    "b = \"apple\"\n",
    "c = 10.8\n",
    "d = [\"apple\", \"banana\", \"orange\"]\n",
    "e = (\"apple\", \"banana\", \"orange\")\n",
    "f = {\"name\": \"John\", \"age\": 36}\n",
    "g = {1, 3, 2, 2}\n",
    "\n",
    "print(type(a))\n",
    "print(a)\n",
    "print(type(b))\n",
    "print(b)\n",
    "print(type(c))\n",
    "print(c)\n",
    "print(type(d))\n",
    "print(d)\n",
    "print(type(e))\n",
    "print(e)\n",
    "print(type(f))\n",
    "print(f)\n",
    "print(type(g))\n",
    "print(g)"
   ]
  },
  {
   "cell_type": "code",
   "execution_count": null,
   "metadata": {},
   "outputs": [],
   "source": [
    "values = [\"apple\", \"banana\", \"cherry\"]\n",
    "for val in values:\n",
    "    print(val)"
   ]
  },
  {
   "cell_type": "code",
   "execution_count": null,
   "metadata": {},
   "outputs": [],
   "source": [
    "# lists methods\n",
    "values = [\"apple\", \"banana\", \"cherry\"]\n",
    "values.append(\"orange\")\n",
    "print(values)\n",
    "values.insert(1, \"mango\")\n",
    "print(values)\n",
    "values.remove(\"banana\")\n",
    "print(values)\n",
    "print(values.pop())\n",
    "print(values)\n",
    "values.clear()\n",
    "print(values)\n",
    "values = [\"apple\", \"banana\", \"cherry\"]\n",
    "del values[0]\n",
    "print(values)"
   ]
  },
  {
   "cell_type": "code",
   "execution_count": null,
   "metadata": {},
   "outputs": [],
   "source": [
    "def fibo_func(n):\n",
    "    fibo = [0, 1]\n",
    "    counter = 0\n",
    "    for _ in range(n):\n",
    "        fibo.append(fibo[counter] + fibo[counter + 1])\n",
    "        counter += 1\n",
    "    return fibo[:n]\n",
    "\n",
    "n = int(input(\"Enter the length of list: \"))\n",
    "\n",
    "fibo = fibo_func(n)\n",
    "\n",
    "print(fibo)"
   ]
  },
  {
   "cell_type": "code",
   "execution_count": null,
   "metadata": {},
   "outputs": [],
   "source": [
    "my_tuple = 1,2,3\n",
    "print(my_tuple)\n",
    "print(type(my_tuple))"
   ]
  },
  {
   "cell_type": "code",
   "execution_count": null,
   "metadata": {},
   "outputs": [],
   "source": [
    "my_dict = {4:3, 2:1, 0:0, 3:5}\n",
    "print(my_dict)\n",
    "sorted_my_dict = sorted(my_dict.items(), key=lambda item : item[0]) # with keys\n",
    "print(sorted_my_dict)\n",
    "sorted_my_dict = sorted(my_dict.items(), key=lambda item : item[1]) # with values\n",
    "print(sorted_my_dict)"
   ]
  },
  {
   "cell_type": "code",
   "execution_count": null,
   "metadata": {},
   "outputs": [],
   "source": [
    "class Car: # blueprint --> General state\n",
    "    pass\n",
    "\n",
    "a = Car() # object | instance\n",
    "b = Car()\n",
    "\n",
    "a.name = 'pride' # attribute | property\n",
    "b.name = 'benz'\n",
    "\n",
    "a.price = 100\n",
    "b.price = 900 # (.) --> dot notation\n",
    "\n",
    "print(f'{a.name} costs {a.price}')\n",
    "print(f'{b.name} costs {b.price}')"
   ]
  },
  {
   "cell_type": "code",
   "execution_count": null,
   "metadata": {},
   "outputs": [],
   "source": [
    "#  Method\n",
    "class Car:\n",
    "    def __init__(self, n, p): # built-in method\n",
    "        self.name = n\n",
    "        self.price = p\n",
    "\n",
    "    def show(self): # method\n",
    "        print(f'{self.name} costs {self.price}')\n",
    "\n",
    "c1 = Car('pride', 100)\n",
    "c2 = Car('benz', 900)\n",
    "\n",
    "c1.show()\n",
    "c2.show()"
   ]
  },
  {
   "cell_type": "code",
   "execution_count": null,
   "metadata": {},
   "outputs": [],
   "source": [
    "# variable --> 1.object variable, 2.class variable\n",
    "class Car:\n",
    "    wheel = 4 # class variable\n",
    "    obj_nums = 0\n",
    "    def __init__(self, n, p):\n",
    "        self.name = n # object variable\n",
    "        self.price = p\n",
    "        Car.obj_nums+=1\n",
    "\n",
    "    def show_wheel(self):\n",
    "        print(f'{self.name} has {self.wheel} wheel')\n",
    "\n",
    "\n",
    "c1 = Car('pride', 100)\n",
    "c2 = Car('benz', 900)\n",
    "\n",
    "c1.wheel = 5\n",
    "\n",
    "print(c1.wheel) # 1.object variable\n",
    "\n",
    "print(Car.obj_nums) # 2.class variable"
   ]
  },
  {
   "cell_type": "code",
   "execution_count": null,
   "metadata": {},
   "outputs": [],
   "source": [
    "count = 0\n",
    "\n",
    "while True:\n",
    "    dice1 = random.randint(1,6)\n",
    "    dice2 = random.randint(1,6)\n",
    "    dice3 = random.randint(1,6)\n",
    "\n",
    "    count += 1\n",
    "\n",
    "    if dice1 == dice2 and dice1 == dice3:\n",
    "        print(\"dice:\")\n",
    "        dice = [dice1, dice2, dice3]\n",
    "        print(dice)\n",
    "        break\n",
    "\n",
    "print(\"count:\")\n",
    "print(count)\n"
   ]
  },
  {
   "cell_type": "code",
   "execution_count": null,
   "metadata": {},
   "outputs": [],
   "source": [
    "guesses = []\n",
    "\n",
    "min = 1\n",
    "max = 100\n",
    "guess = random.randint(min, max)\n",
    "guesses.append(guess)\n",
    "\n",
    "print(f\"my guess is {guess}\")\n",
    "\n",
    "answer = input(\"your number is higher or lower or true? (h/l/t): \")\n",
    "\n",
    "while answer != \"t\":\n",
    "    if answer == \"h\":\n",
    "        min = guess + 1\n",
    "    elif answer == \"l\":\n",
    "        max = guess - 1\n",
    "    else:\n",
    "        print(\"invalid input\")\n",
    "        continue\n",
    "\n",
    "    guess = random.randint(min, max)\n",
    "    guesses.append(guess)\n",
    "    print(f\"my guess is {guess}\")\n",
    "    answer = input(\"your number is higher or lower or true? (h/l/t): \")\n",
    "\n",
    "print(\"my guesses:\")\n",
    "print(guesses)\n",
    "print(\"your number is:\")"
   ]
  },
  {
   "cell_type": "code",
   "execution_count": null,
   "metadata": {},
   "outputs": [],
   "source": [
    "capitals = {\n",
    "    \"iran\":\"tehran\",\n",
    "    \"iraq\":\"baqdad\",\n",
    "    \"turkey\":\"ankara\",\n",
    "}\n",
    "print(capitals[\"iran\"])\n",
    "capitals.items()\n",
    "\n",
    "key , val = ('iran', 'tehran')\n",
    "print(key)\n",
    "print(val)"
   ]
  },
  {
   "cell_type": "code",
   "execution_count": 5,
   "metadata": {},
   "outputs": [],
   "source": [
    "\n",
    "class Car:\n",
    "    def __init__(self, model, name, engine=1.6, weight=1000):\n",
    "        self.model = model\n",
    "        self.name = name\n",
    "        self.engine = engine\n",
    "        self.weight = weight\n",
    "        \n",
    "    def show_model(self):\n",
    "        print(f\"{self.name} model {self.model}\")\n",
    "\n",
    "\n",
    "c1 = Car(\"se\",\"pride\")"
   ]
  },
  {
   "cell_type": "code",
   "execution_count": 6,
   "metadata": {},
   "outputs": [
    {
     "name": "stdout",
     "output_type": "stream",
     "text": [
      "pride\n",
      "1000\n",
      "pride model se\n"
     ]
    }
   ],
   "source": [
    "print(c1.name)\n",
    "print(c1.weight)\n",
    "c1.show_model()"
   ]
  }
 ],
 "metadata": {
  "kernelspec": {
   "display_name": "Python 3",
   "language": "python",
   "name": "python3"
  },
  "language_info": {
   "codemirror_mode": {
    "name": "ipython",
    "version": 3
   },
   "file_extension": ".py",
   "mimetype": "text/x-python",
   "name": "python",
   "nbconvert_exporter": "python",
   "pygments_lexer": "ipython3",
   "version": "3.11.5"
  }
 },
 "nbformat": 4,
 "nbformat_minor": 2
}
